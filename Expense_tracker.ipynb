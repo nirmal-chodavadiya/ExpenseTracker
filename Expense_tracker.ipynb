{
 "cells": [
  {
   "cell_type": "markdown",
   "id": "def68364-8555-49e0-87b9-5ef6838cccb5",
   "metadata": {},
   "source": [
    "Expense Tracker analysis.\r\n"
   ]
  },
  {
   "cell_type": "raw",
   "id": "d1165132-7a3d-4217-af31-f4f5e6deef34",
   "metadata": {},
   "source": [
    "Introduction\n",
    "\n",
    "This Jupyter Notebook serves as an Expense Tracker, allowing users to log, visualize, and analyze their daily expenses. The application enables better financial management by providing insights into spending habits through various features."
   ]
  },
  {
   "cell_type": "raw",
   "id": "8539875a-fac9-4722-bce3-d67202ba0d94",
   "metadata": {},
   "source": [
    "Features:\n",
    "- Add expenses with categories and amounts.\n",
    "- View all logged expenses.\n",
    "- Generate a summary of expenses by category.\n",
    "- Visualize expenses using charts.\n",
    "- Export summaries to Excel for further analysis."
   ]
  },
  {
   "cell_type": "code",
   "execution_count": 3,
   "id": "9bf025a5-470f-4804-86c4-4953c5f046b4",
   "metadata": {},
   "outputs": [],
   "source": [
    "import csv\n",
    "import os\n",
    "\n",
    "def add_expense(amount, category, date):\n",
    "    file_exists = os.path.isfile('expenses.csv')\n",
    "    \n",
    "    with open('expenses.csv', mode='a', newline='') as file:\n",
    "        writer = csv.writer(file)\n",
    "        if not file_exists:\n",
    "            writer.writerow(['Date', 'Amount', 'Category'])  # Write headers if file does not exist\n",
    "        writer.writerow([date, amount, category])\n"
   ]
  },
  {
   "cell_type": "code",
   "execution_count": 4,
   "id": "0d763a8c-aac4-406e-ab9f-860ebe9241a8",
   "metadata": {},
   "outputs": [],
   "source": [
    "def user_input_expense():\n",
    "    date = input(\"Enter the date (YYYY-MM-DD): \")\n",
    "    amount = float(input(\"Enter the amount: \"))\n",
    "    category = input(\"Enter the category (e.g., Food, Travel, Shopping): \")\n",
    "    \n",
    "    add_expense(amount, category, date)\n",
    "    print(\"Expense added successfully.\")\n"
   ]
  },
  {
   "cell_type": "code",
   "execution_count": 5,
   "id": "aa576639-916f-4e75-a520-633d9f5a8d1a",
   "metadata": {},
   "outputs": [],
   "source": [
    "import pandas as pd\n",
    "\n",
    "def view_expenses():\n",
    "    try:\n",
    "        df = pd.read_csv('expenses.csv')\n",
    "        print(df)\n",
    "    except FileNotFoundError:\n",
    "        print(\"No expenses recorded yet.\")\n"
   ]
  },
  {
   "cell_type": "code",
   "execution_count": 6,
   "id": "27f7ed45-5c74-44e3-ac45-d45ca3803aba",
   "metadata": {},
   "outputs": [],
   "source": [
    "import matplotlib.pyplot as plt\n",
    "\n",
    "def visualize_expenses_by_category():\n",
    "    try:\n",
    "        df = pd.read_csv('expenses.csv')\n",
    "        summary = df.groupby('Category')['Amount'].sum()\n",
    "        \n",
    "        summary.plot(kind='bar', color='skyblue')\n",
    "        plt.title('Expenses by Category')\n",
    "        plt.xlabel('Category')\n",
    "        plt.ylabel('Amount Spent')\n",
    "        plt.show()\n",
    "    except FileNotFoundError:\n",
    "        print(\"No expenses to visualize.\")\n"
   ]
  },
  {
   "cell_type": "code",
   "execution_count": 7,
   "id": "5d142b2c-c94f-4f04-a29f-2df37c394ae0",
   "metadata": {},
   "outputs": [],
   "source": [
    "def visualize_expenses_over_time():\n",
    "    try:\n",
    "        df = pd.read_csv('expenses.csv')\n",
    "        df['Date'] = pd.to_datetime(df['Date'])  # Convert date strings to datetime objects\n",
    "        df = df.groupby('Date')['Amount'].sum().reset_index()\n",
    "        \n",
    "        plt.plot(df['Date'], df['Amount'], marker='o', linestyle='-', color='green')\n",
    "        plt.title('Expenses Over Time')\n",
    "        plt.xlabel('Date')\n",
    "        plt.ylabel('Total Spending')\n",
    "        plt.xticks(rotation=45)\n",
    "        plt.tight_layout()\n",
    "        plt.show()\n",
    "    except FileNotFoundError:\n",
    "        print(\"No expenses to visualize.\")\n"
   ]
  },
  {
   "cell_type": "code",
   "execution_count": 8,
   "id": "7fcae14d-6928-4494-a799-1deb9aa956dc",
   "metadata": {},
   "outputs": [],
   "source": [
    "def export_summary_to_excel():\n",
    "    try:\n",
    "        df = pd.read_csv('expenses.csv')\n",
    "        summary = df.groupby('Category')['Amount'].sum()\n",
    "        summary.to_excel('expense_summary.xlsx')\n",
    "        print(\"Summary exported to 'expense_summary.xlsx'\")\n",
    "    except FileNotFoundError:\n",
    "        print(\"No expenses to export.\")\n"
   ]
  },
  {
   "cell_type": "code",
   "execution_count": null,
   "id": "cf39bdb8-9962-48bf-ae38-04a2d9da1626",
   "metadata": {},
   "outputs": [
    {
     "name": "stdout",
     "output_type": "stream",
     "text": [
      "\n",
      "--- Expense Tracker ---\n",
      "1. Add Expense\n",
      "2. View Expenses\n",
      "3. Expense Summary\n",
      "4. Visualize Expenses by Category\n",
      "5. Visualize Expenses Over Time\n",
      "6. Export Summary to Excel\n",
      "7. Exit\n"
     ]
    }
   ],
   "source": [
    "def main():\n",
    "    while True:\n",
    "        print(\"\\n--- Expense Tracker ---\")\n",
    "        print(\"1. Add Expense\")\n",
    "        print(\"2. View Expenses\")\n",
    "        print(\"3. Expense Summary\")\n",
    "        print(\"4. Visualize Expenses by Category\")\n",
    "        print(\"5. Visualize Expenses Over Time\")\n",
    "        print(\"6. Export Summary to Excel\")\n",
    "        print(\"7. Exit\")\n",
    "        \n",
    "        choice = input(\"Enter your choice: \")\n",
    "        \n",
    "        if choice == '1':\n",
    "            user_input_expense()\n",
    "        elif choice == '2':\n",
    "            view_expenses()\n",
    "        elif choice == '3':\n",
    "            expense_summary()\n",
    "        elif choice == '4':\n",
    "            visualize_expenses_by_category()\n",
    "        elif choice == '5':\n",
    "            visualize_expenses_over_time()\n",
    "        elif choice == '6':\n",
    "            export_summary_to_excel()\n",
    "        elif choice == '7':\n",
    "            break\n",
    "        else:\n",
    "            print(\"Invalid choice, please try again.\")\n",
    "\n",
    "if __name__ == '__main__':\n",
    "    main()"
   ]
  }
 ],
 "metadata": {
  "kernelspec": {
   "display_name": "anaconda-panel-2023.05-py310",
   "language": "python",
   "name": "conda-env-anaconda-panel-2023.05-py310-py"
  },
  "language_info": {
   "codemirror_mode": {
    "name": "ipython",
    "version": 3
   },
   "file_extension": ".py",
   "mimetype": "text/x-python",
   "name": "python",
   "nbconvert_exporter": "python",
   "pygments_lexer": "ipython3",
   "version": "3.11.5"
  }
 },
 "nbformat": 4,
 "nbformat_minor": 5
}
